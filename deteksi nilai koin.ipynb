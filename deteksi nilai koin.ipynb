{
 "cells": [
  {
   "cell_type": "code",
   "execution_count": 1,
   "id": "feb8d4ba",
   "metadata": {},
   "outputs": [],
   "source": [
    "import cv2 as cv\n",
    "import numpy as np\n",
    "img = cv.imread('koin.jpg')"
   ]
  },
  {
   "cell_type": "markdown",
   "id": "577e0264",
   "metadata": {},
   "source": [
    "## Preprocessing"
   ]
  },
  {
   "cell_type": "code",
   "execution_count": 2,
   "id": "6dea83ef",
   "metadata": {},
   "outputs": [],
   "source": [
    "img_gray = cv.cvtColor(img, cv.COLOR_BGR2GRAY)\n",
    "img_blur = cv.GaussianBlur(img_gray, (7, 7), 1.5)\n",
    "edges = cv.Canny(img_blur, 50, 250)\n",
    "# cv.imshow(\"gambar grayscale\", img_gray)\n",
    "# cv.imshow(\"gambar blur dengan gaussian\", img_blur)\n",
    "# cv.imshow(\"deteksi tepi dengan canny\", edges)"
   ]
  },
  {
   "cell_type": "code",
   "execution_count": 3,
   "id": "72398951",
   "metadata": {},
   "outputs": [],
   "source": [
    "rupiah = {\n",
    "    \"100\": {\n",
    "        \"nilai\": 100,\n",
    "        \"radius\": 23,\n",
    "        \"rasio\": 1,\n",
    "        \"jumlah\": 0,\n",
    "    },\n",
    "    \"200\": {\n",
    "        \"nilai\": 200,\n",
    "        \"radius\": 25,\n",
    "        \"rasio\": 1.086,\n",
    "        \"jumlah\": 0,\n",
    "    },\n",
    "    \"500\": {\n",
    "        \"nilai\": 500,\n",
    "        \"radius\": 27,\n",
    "        \"rasio\": 1.174,\n",
    "        \"jumlah\": 0,\n",
    "    },\n",
    "    \"1000\": {\n",
    "        \"nilai\": 1000,\n",
    "        \"radius\": 24.15,\n",
    "        \"rasio\": 1.05,\n",
    "        \"jumlah\": 0,\n",
    "    },\n",
    "}\n",
    "\n",
    "radius = []\n",
    "xy = []\n",
    "toleransi_rasio = 0.035\n",
    "total = 0"
   ]
  },
  {
   "cell_type": "markdown",
   "id": "4d829c54",
   "metadata": {},
   "source": [
    "## Deteksi Lingkaran dengan Hough Circle Transform"
   ]
  },
  {
   "cell_type": "code",
   "execution_count": 4,
   "id": "f9608e18",
   "metadata": {},
   "outputs": [],
   "source": [
    "circles = cv.HoughCircles(edges, cv.HOUGH_GRADIENT, 1, 100,\n",
    "                          param1=50, param2=25, minRadius=50, maxRadius=90)\n",
    "\n",
    "img_copy = img.copy()\n",
    "\n",
    "# circles = [xc,yc,r]\n",
    "if circles is not None:\n",
    "    circles = np.uint16(np.around(circles))\n",
    "    for i in circles[0]:\n",
    "        x,y,r = i\n",
    "        deteksi_koin = cv.circle(img_copy, (x,y), r, (0, 255, 0), 2)\n",
    "        \n",
    "        radius.append(r)\n",
    "        xy.append([x,y])\n",
    "\n",
    "cv.imshow(\"Hasil Deteksi Lingkaran\", deteksi_koin)\n",
    "\n",
    "cv.waitKey(0)\n",
    "cv.destroyAllWindows()"
   ]
  },
  {
   "cell_type": "markdown",
   "id": "6049c3f8",
   "metadata": {},
   "source": [
    "## Deteksi Nilai Koin"
   ]
  },
  {
   "cell_type": "code",
   "execution_count": 5,
   "id": "3e720ee0",
   "metadata": {},
   "outputs": [
    {
     "name": "stdout",
     "output_type": "stream",
     "text": [
      "Uang koin 100 berjumlah 1\n",
      "Uang koin 200 berjumlah 1\n",
      "Uang koin 500 berjumlah 1\n",
      "Uang koin 1000 berjumlah 1\n"
     ]
    }
   ],
   "source": [
    "for j in circles[0]:\n",
    "    x,y,r = j\n",
    "    cek_rasio = r/min(radius)    \n",
    "    for koin in rupiah:\n",
    "        nilai = rupiah[koin]['nilai']\n",
    "        if abs(cek_rasio - rupiah[koin]['rasio']) <= toleransi_rasio:\n",
    "            rupiah[koin]['jumlah'] += 1\n",
    "            total += rupiah[koin]['nilai']\n",
    "            cv.putText(deteksi_koin, str(nilai), (x,y), \n",
    "                       cv.FONT_HERSHEY_SIMPLEX, 0.75, (0, 0, 0), 3)\n",
    "            \n",
    "\n",
    "cv.putText(deteksi_koin, f\"Total uang koin adalah Rp.{total}\",\n",
    "               (5,20),  cv.FONT_HERSHEY_SIMPLEX, 0.5, (0, 0, 0), 2)\n",
    "for koin in rupiah:\n",
    "    banyak_koin = rupiah[koin]['jumlah']\n",
    "    print(f\"Uang koin {koin} berjumlah {banyak_koin}\")\n",
    "\n",
    "cv.imwrite(\"hasil deteksi nilai koin.jpg\", deteksi_koin)\n",
    "cv.imshow(\"Total Uang Koin\",deteksi_koin)\n",
    "\n",
    "cv.waitKey(0)\n",
    "cv.destroyAllWindows()"
   ]
  },
  {
   "cell_type": "code",
   "execution_count": null,
   "id": "7577ff19",
   "metadata": {},
   "outputs": [],
   "source": []
  }
 ],
 "metadata": {
  "kernelspec": {
   "display_name": "Python 3 (ipykernel)",
   "language": "python",
   "name": "python3"
  },
  "language_info": {
   "codemirror_mode": {
    "name": "ipython",
    "version": 3
   },
   "file_extension": ".py",
   "mimetype": "text/x-python",
   "name": "python",
   "nbconvert_exporter": "python",
   "pygments_lexer": "ipython3",
   "version": "3.10.8"
  }
 },
 "nbformat": 4,
 "nbformat_minor": 5
}
